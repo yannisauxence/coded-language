{
 "cells": [
  {
   "cell_type": "code",
   "execution_count": 2,
   "metadata": {},
   "outputs": [
    {
     "name": "stdout",
     "output_type": "stream",
     "text": [
      "      ID             Name  Age   Highest Degree Earned  \\\n",
      "0      1   Aiden Martinez   29              Bachelor's   \n",
      "1      2     Katia Petrov   32                Master's   \n",
      "2      3        Raj Patel   27                     PhD   \n",
      "3      4     Maya Johnson   34     High School Diploma   \n",
      "4      5      Kwame Nkosi   31             Certificate   \n",
      "..   ...              ...  ...                     ...   \n",
      "495  496       Omar Saeed   29     High School Diploma   \n",
      "496  497     Lucy Johnson   32             Certificate   \n",
      "497  498  Daniel Martinez   28  Non-Traditional Degree   \n",
      "498  499        Aisha Ali   30                     PhD   \n",
      "499  500     Kelvin Brown   34              Bachelor's   \n",
      "\n",
      "                       Major State          Occupation  Income Car Brand  \\\n",
      "0           Computer Science    CA   Software Engineer   95000    Toyota   \n",
      "1    International Relations    NY            Diplomat  110000       BMW   \n",
      "2               Neuroscience    TX  Research Scientist  130000      Audi   \n",
      "3                        NaN    FL      Retail Manager   55000      Ford   \n",
      "4                 IT Support    GA       IT Technician   62000     Honda   \n",
      "..                       ...   ...                 ...     ...       ...   \n",
      "495                      NaN    TX     Sales Executive   50000      Ford   \n",
      "496           Fashion Design    FL    Fashion Designer   58000   Hyundai   \n",
      "497          Web Development    CA       Web Developer   59000    Toyota   \n",
      "498             Neuroscience    TX      Neuroscientist  105000      Audi   \n",
      "499             Architecture    FL           Architect   78000       BMW   \n",
      "\n",
      "     Housing Situation  Rent  \n",
      "0           Live Alone  1800  \n",
      "1           Live Alone  2200  \n",
      "2           Live Alone  2500  \n",
      "3    Live with Partner  1400  \n",
      "4           Live Alone  1300  \n",
      "..                 ...   ...  \n",
      "495         Live Alone  1200  \n",
      "496         Live Alone  1300  \n",
      "497         Live Alone  1200  \n",
      "498         Live Alone  2000  \n",
      "499         Live Alone  1600  \n",
      "\n",
      "[500 rows x 11 columns]\n"
     ]
    }
   ],
   "source": [
    "from datetime import date\n",
    "from flask import Flask, render_template, request, url_for\n",
    "import string\n",
    "import pandas as pd\n",
    "from sqlalchemy import create_engine\n",
    "\n",
    "pd.options.display.max_rows = 100\n",
    "tx = pd.read_excel('Records.xlsx', usecols=\"A:K\")\n",
    "# tx.fillna(\"N/A\", inplace = True)\n",
    "# tx.drop_duplicates(inplace = True)\n",
    "# d = list(tx.values.tolist()) \n",
    "\n",
    "\n",
    "print(tx)\n",
    "\n",
    "#print(tx.index.values)\n",
    "# for x in tx.index.values:\n",
    "# for y in tx.columns.values:\n",
    "#     print(tx)\n",
    "\n",
    "# v = input('Enter the Major: ')\t\n",
    "# tx.loc[tx.isin([v]).any(axis=1)]\n",
    "\n",
    "# o = list()\n",
    "# for x in tx.index.values:\n",
    "#     for y in tx.columns.values:\n",
    "#         o.append(tx.at[x,y])\n",
    "\n",
    "# for z in o:\n",
    "#     print(z)\n",
    "\n",
    "\n",
    "# {% endfor %} {% for y in tx.index.values %}\n",
    "# engine = create_engine(\"sqlite:///:memory:\")\n",
    "    # tx.to_sql(name='dato',con=engine)\n",
    "    # with engine.connect() as conn, conn.begin():  \n",
    "    #     # data = pd.read_sql_table('dato', engine)\n",
    "    #     qr = pd.read_sql_query(\n",
    "    #         SELECT *\n",
    "    #         FROM dato\n",
    "    #         WHERE Major = \"Computer Science\"\n",
    "    #         , engine)\n",
    "\n"
   ]
  }
 ],
 "metadata": {
  "interpreter": {
   "hash": "2c8ab339fd5eedbf642977982263b12ff6aea7084e7fe78c7d8a672ba068decc"
  },
  "kernelspec": {
   "display_name": "Python 3.9.13 64-bit (windows store)",
   "language": "python",
   "name": "python3"
  },
  "language_info": {
   "codemirror_mode": {
    "name": "ipython",
    "version": 3
   },
   "file_extension": ".py",
   "mimetype": "text/x-python",
   "name": "python",
   "nbconvert_exporter": "python",
   "pygments_lexer": "ipython3",
   "version": "3.9.13"
  },
  "orig_nbformat": 4
 },
 "nbformat": 4,
 "nbformat_minor": 2
}
