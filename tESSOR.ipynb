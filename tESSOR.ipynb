{
 "cells": [
  {
   "cell_type": "code",
   "execution_count": 1,
   "metadata": {},
   "outputs": [
    {
     "name": "stdout",
     "output_type": "stream",
     "text": [
      "[[1 'Aiden Martinez' 29 ... 'Toyota' 'Live Alone' 1800]\n",
      " [2 'Katia Petrov' 32 ... 'BMW' 'Live Alone' 2200]\n",
      " [3 'Raj Patel' 27 ... 'Audi' 'Live Alone' 2500]\n",
      " ...\n",
      " [498 'Daniel Martinez' 28 ... 'Toyota' 'Live Alone' 1200]\n",
      " [499 'Aisha Ali' 30 ... 'Audi' 'Live Alone' 2000]\n",
      " [500 'Kelvin Brown' 34 ... 'BMW' 'Live Alone' 1600]]\n"
     ]
    }
   ],
   "source": [
    "from datetime import date\n",
    "from flask import Flask, render_template, request, url_for\n",
    "import string\n",
    "import pandas as pd\n",
    "from sqlalchemy import create_engine\n",
    "\n",
    "pd.options.display.max_rows = 100\n",
    "tx = pd.read_excel('Records.xlsx', usecols=\"A:K\")\n",
    "# tx.fillna(\"N/A\", inplace = True)\n",
    "# tx.drop_duplicates(inplace = True)\n",
    "# d = list(tx.values.tolist()) \n",
    "\n",
    "\n",
    "print(tx.values)\n",
    "\n",
    "#print(tx.index.values)\n",
    "# for x in tx.index.values:\n",
    "# for y in tx.columns.values:\n",
    "#     print(tx)\n",
    "\n",
    "# v = input('Enter the Major: ')\t\n",
    "# tx.loc[tx.isin([v]).any(axis=1)]\n",
    "\n",
    "# o = list()\n",
    "# for x in tx.index.values:\n",
    "#     for y in tx.columns.values:\n",
    "#         o.append(tx.at[x,y])\n",
    "\n",
    "# for z in o:\n",
    "#     print(z)\n",
    "\n",
    "\n",
    "# {% endfor %} {% for y in tx.index.values %}\n",
    "# engine = create_engine(\"sqlite:///:memory:\")\n",
    "    # tx.to_sql(name='dato',con=engine)\n",
    "    # with engine.connect() as conn, conn.begin():  \n",
    "    #     # data = pd.read_sql_table('dato', engine)\n",
    "    #     qr = pd.read_sql_query(\n",
    "    #         SELECT *\n",
    "    #         FROM dato\n",
    "    #         WHERE Major = \"Computer Science\"\n",
    "    #         , engine)\n",
    "\n"
   ]
  }
 ],
 "metadata": {
  "interpreter": {
   "hash": "2c8ab339fd5eedbf642977982263b12ff6aea7084e7fe78c7d8a672ba068decc"
  },
  "kernelspec": {
   "display_name": "Python 3.9.13 64-bit (windows store)",
   "language": "python",
   "name": "python3"
  },
  "language_info": {
   "codemirror_mode": {
    "name": "ipython",
    "version": 3
   },
   "file_extension": ".py",
   "mimetype": "text/x-python",
   "name": "python",
   "nbconvert_exporter": "python",
   "pygments_lexer": "ipython3",
   "version": "3.9.13"
  },
  "orig_nbformat": 4
 },
 "nbformat": 4,
 "nbformat_minor": 2
}
